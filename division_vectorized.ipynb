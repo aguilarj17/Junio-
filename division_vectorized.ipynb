{
 "cells": [
  {
   "cell_type": "code",
   "execution_count": 1,
   "metadata": {},
   "outputs": [
    {
     "name": "stdout",
     "output_type": "stream",
     "text": [
      "Given list is  [10, 20, 33, 46, 55]\n",
      "Divisible of 5 in a list\n",
      "10\n",
      "20\n",
      "55\n"
     ]
    }
   ],
   "source": [
    "def Divisible(numberList):\n",
    "    print(\"Given list is \", numberList)\n",
    "    print(\"Divisible of 5 in a list\")\n",
    "    for num in numberList:\n",
    "        if (num % 5 == 0):\n",
    "            print(num)\n",
    "\n",
    "numList = [10, 20, 33, 46, 55]\n",
    "Divisible(numList)"
   ]
  },
  {
   "cell_type": "code",
   "execution_count": 15,
   "metadata": {},
   "outputs": [
    {
     "name": "stdout",
     "output_type": "stream",
     "text": [
      "Divisible of 5 in a list\n",
      "[10 20 33 46 55]\n"
     ]
    },
    {
     "data": {
      "text/plain": [
       "array([10, 20, 55])"
      ]
     },
     "execution_count": 15,
     "metadata": {},
     "output_type": "execute_result"
    }
   ],
   "source": [
    "#import numpy\n",
    "import numpy as np\n",
    "#make a list with np \n",
    "list = np.array([10, 20, 33, 46, 55]) \n",
    "\n",
    "print('Divisible of 5 in a list')\n",
    "print(list)\n",
    "#Then i print in an array the results of multiply by 5\n",
    "list[list%5 == 0] \n"
   ]
  },
  {
   "cell_type": "code",
   "execution_count": 16,
   "metadata": {},
   "outputs": [
    {
     "name": "stdout",
     "output_type": "stream",
     "text": [
      "First List  [10, 20, 23, 11, 17]\n",
      "Second List  [13, 43, 24, 36, 12]\n",
      "result List is [23, 11, 17, 24, 36, 12]\n"
     ]
    }
   ],
   "source": [
    "def mergeList(listOne, listTwo):\n",
    "    print(\"First List \", listOne)\n",
    "    print(\"Second List \", listTwo)\n",
    "    thirdList = []\n",
    "    \n",
    "    for num in listOne:\n",
    "        if (num % 2 != 0):\n",
    "            thirdList.append(num)\n",
    "    for num in listTwo:\n",
    "        if (num % 2 == 0):\n",
    "            thirdList.append(num)\n",
    "    return thirdList\n",
    "\n",
    "listOne = [10, 20, 23, 11, 17]\n",
    "listTwo = [13, 43, 24, 36, 12]\n",
    "\n",
    "print(\"result List is\", mergeList(listOne, listTwo))"
   ]
  },
  {
   "cell_type": "code",
   "execution_count": 25,
   "metadata": {},
   "outputs": [
    {
     "data": {
      "text/plain": [
       "array([23, 11, 17, 24, 36, 12])"
      ]
     },
     "execution_count": 25,
     "metadata": {},
     "output_type": "execute_result"
    }
   ],
   "source": [
    "#import the librarie numpy\n",
    "import numpy as np\n",
    "#define the list\n",
    "listone= np.array([10, 20, 23, 11, 17])\n",
    "listtwo = np.array([13, 43, 24, 36, 12])\n",
    "#make the result of odd and even numer\n",
    "a =listone[listone%2 != 0]\n",
    "b = listtwo[listtwo%2 == 0]\n",
    "#combine in an array\n",
    "np.concatenate([a, b], axis = 0)\n",
    "\n"
   ]
  },
  {
   "cell_type": "code",
   "execution_count": null,
   "metadata": {},
   "outputs": [],
   "source": []
  }
 ],
 "metadata": {
  "kernelspec": {
   "display_name": "Python 3",
   "language": "python",
   "name": "python3"
  },
  "language_info": {
   "codemirror_mode": {
    "name": "ipython",
    "version": 3
   },
   "file_extension": ".py",
   "mimetype": "text/x-python",
   "name": "python",
   "nbconvert_exporter": "python",
   "pygments_lexer": "ipython3",
   "version": "3.7.7"
  }
 },
 "nbformat": 4,
 "nbformat_minor": 4
}
